{
 "cells": [
  {
   "cell_type": "code",
   "execution_count": 3,
   "metadata": {},
   "outputs": [
    {
     "name": "stdout",
     "output_type": "stream",
     "text": [
      "dict_keys(['model', 'optimizer', 'model_args', 'iter_num', 'best_val_loss', 'config', 'dataset'])\n",
      "Configurations: {'out_dir': 'out-shakespeare-char', 'eval_interval': 4000, 'log_interval': 100, 'eval_iters': 100, 'eval_only': False, 'always_save_checkpoint': True, 'init_from': 'scratch', 'wandb_log': True, 'wandb_project': 'chess-gpt-batch', 'wandb_run_name': 'lichess_all_elos_8layers', 'dataset': 'lichess_hf_dataset', 'gradient_accumulation_steps': 1, 'batch_size': 100, 'block_size': 1023, 'n_layer': 8, 'n_head': 8, 'n_embd': 512, 'dropout': 0.0, 'bias': False, 'learning_rate': 0.0003, 'max_iters': 600000.0, 'weight_decay': 0.1, 'beta1': 0.9, 'beta2': 0.95, 'grad_clip': 1.0, 'decay_lr': True, 'warmup_iters': 1000, 'lr_decay_iters': 600000.0, 'min_lr': 3e-05, 'backend': 'nccl', 'device': 'cuda', 'dtype': 'bfloat16', 'compile': True}\n"
     ]
    }
   ],
   "source": [
    "import torch\n",
    "\n",
    "def load_checkpoint(filepath: str) -> dict:\n",
    "    \"\"\"\n",
    "    Load a checkpoint file.\n",
    "\n",
    "    Args:\n",
    "    filepath (str): Path to the .ckpt file.\n",
    "\n",
    "    Returns:\n",
    "    dict: Contents of the checkpoint file.\n",
    "    \"\"\"\n",
    "    checkpoint = torch.load(filepath, map_location=torch.device('cpu'))\n",
    "    return checkpoint\n",
    "\n",
    "checkpoint_path = 'lichess_8layers_ckpt_with_optimizer.pt'\n",
    "checkpoint_data = load_checkpoint(checkpoint_path)\n",
    "\n",
    "# Print the keys to understand what's inside\n",
    "print(checkpoint_data.keys())\n",
    "\n",
    "# If you want to view specific information, access it using the keys\n",
    "# For example, to view the model's state_dict\n",
    "model_state = checkpoint_data.get('state_dict', None)\n",
    "if model_state:\n",
    "    print(\"Model's state dict:\", model_state)\n",
    "\n",
    "# To view training information like current learning rate, iterations, etc.\n",
    "training_info = checkpoint_data.get('training_info', None)\n",
    "if training_info:\n",
    "    print(\"Training Info:\", training_info)\n",
    "\n",
    "# To view config, if it's stored in the checkpoint\n",
    "config = checkpoint_data.get('config', None)\n",
    "if config:\n",
    "    print(\"Configurations:\", config)\n"
   ]
  }
 ],
 "metadata": {
  "kernelspec": {
   "display_name": "Python 3",
   "language": "python",
   "name": "python3"
  },
  "language_info": {
   "codemirror_mode": {
    "name": "ipython",
    "version": 3
   },
   "file_extension": ".py",
   "mimetype": "text/x-python",
   "name": "python",
   "nbconvert_exporter": "python",
   "pygments_lexer": "ipython3",
   "version": "3.10.12"
  }
 },
 "nbformat": 4,
 "nbformat_minor": 2
}
